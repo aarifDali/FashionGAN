{
 "cells": [
  {
   "cell_type": "code",
   "execution_count": 1,
   "id": "2ca5d680-8e0c-4e58-928a-ff41c082b79f",
   "metadata": {
    "collapsed": true,
    "jupyter": {
     "outputs_hidden": true
    },
    "tags": []
   },
   "outputs": [
    {
     "name": "stdout",
     "output_type": "stream",
     "text": [
      "Requirement already satisfied: tensorflow in d:\\project\\fashiongan\\fashiongan\\lib\\site-packages (2.14.0)\n",
      "Requirement already satisfied: matplotlib in d:\\project\\fashiongan\\fashiongan\\lib\\site-packages (3.8.1)\n",
      "Requirement already satisfied: tensorflow-datasets in d:\\project\\fashiongan\\fashiongan\\lib\\site-packages (4.5.2)\n",
      "Requirement already satisfied: ipywidgets in d:\\project\\fashiongan\\fashiongan\\lib\\site-packages (8.1.1)\n",
      "Requirement already satisfied: tensorflow-intel==2.14.0 in d:\\project\\fashiongan\\fashiongan\\lib\\site-packages (from tensorflow) (2.14.0)\n",
      "Requirement already satisfied: absl-py>=1.0.0 in d:\\project\\fashiongan\\fashiongan\\lib\\site-packages (from tensorflow-intel==2.14.0->tensorflow) (1.4.0)\n",
      "Requirement already satisfied: astunparse>=1.6.0 in d:\\project\\fashiongan\\fashiongan\\lib\\site-packages (from tensorflow-intel==2.14.0->tensorflow) (1.6.3)\n",
      "Requirement already satisfied: flatbuffers>=23.5.26 in d:\\project\\fashiongan\\fashiongan\\lib\\site-packages (from tensorflow-intel==2.14.0->tensorflow) (23.5.26)\n",
      "Requirement already satisfied: gast!=0.5.0,!=0.5.1,!=0.5.2,>=0.2.1 in d:\\project\\fashiongan\\fashiongan\\lib\\site-packages (from tensorflow-intel==2.14.0->tensorflow) (0.5.4)\n",
      "Requirement already satisfied: google-pasta>=0.1.1 in d:\\project\\fashiongan\\fashiongan\\lib\\site-packages (from tensorflow-intel==2.14.0->tensorflow) (0.2.0)\n",
      "Requirement already satisfied: h5py>=2.9.0 in d:\\project\\fashiongan\\fashiongan\\lib\\site-packages (from tensorflow-intel==2.14.0->tensorflow) (3.10.0)\n",
      "Requirement already satisfied: libclang>=13.0.0 in d:\\project\\fashiongan\\fashiongan\\lib\\site-packages (from tensorflow-intel==2.14.0->tensorflow) (16.0.6)\n",
      "Requirement already satisfied: ml-dtypes==0.2.0 in d:\\project\\fashiongan\\fashiongan\\lib\\site-packages (from tensorflow-intel==2.14.0->tensorflow) (0.2.0)\n",
      "Requirement already satisfied: numpy>=1.23.5 in d:\\project\\fashiongan\\fashiongan\\lib\\site-packages (from tensorflow-intel==2.14.0->tensorflow) (1.26.1)\n",
      "Requirement already satisfied: opt-einsum>=2.3.2 in d:\\project\\fashiongan\\fashiongan\\lib\\site-packages (from tensorflow-intel==2.14.0->tensorflow) (3.3.0)\n",
      "Requirement already satisfied: packaging in d:\\project\\fashiongan\\fashiongan\\lib\\site-packages (from tensorflow-intel==2.14.0->tensorflow) (23.2)\n",
      "Requirement already satisfied: protobuf!=4.21.0,!=4.21.1,!=4.21.2,!=4.21.3,!=4.21.4,!=4.21.5,<5.0.0dev,>=3.20.3 in d:\\project\\fashiongan\\fashiongan\\lib\\site-packages (from tensorflow-intel==2.14.0->tensorflow) (3.20.3)\n",
      "Requirement already satisfied: setuptools in d:\\project\\fashiongan\\fashiongan\\lib\\site-packages (from tensorflow-intel==2.14.0->tensorflow) (65.5.0)\n",
      "Requirement already satisfied: six>=1.12.0 in d:\\project\\fashiongan\\fashiongan\\lib\\site-packages (from tensorflow-intel==2.14.0->tensorflow) (1.16.0)\n",
      "Requirement already satisfied: termcolor>=1.1.0 in d:\\project\\fashiongan\\fashiongan\\lib\\site-packages (from tensorflow-intel==2.14.0->tensorflow) (2.3.0)\n",
      "Requirement already satisfied: typing-extensions>=3.6.6 in d:\\project\\fashiongan\\fashiongan\\lib\\site-packages (from tensorflow-intel==2.14.0->tensorflow) (4.8.0)\n",
      "Requirement already satisfied: wrapt<1.15,>=1.11.0 in d:\\project\\fashiongan\\fashiongan\\lib\\site-packages (from tensorflow-intel==2.14.0->tensorflow) (1.14.1)\n",
      "Requirement already satisfied: tensorflow-io-gcs-filesystem>=0.23.1 in d:\\project\\fashiongan\\fashiongan\\lib\\site-packages (from tensorflow-intel==2.14.0->tensorflow) (0.31.0)\n",
      "Requirement already satisfied: grpcio<2.0,>=1.24.3 in d:\\project\\fashiongan\\fashiongan\\lib\\site-packages (from tensorflow-intel==2.14.0->tensorflow) (1.59.2)\n",
      "Requirement already satisfied: tensorboard<2.15,>=2.14 in d:\\project\\fashiongan\\fashiongan\\lib\\site-packages (from tensorflow-intel==2.14.0->tensorflow) (2.14.1)\n",
      "Requirement already satisfied: tensorflow-estimator<2.15,>=2.14.0 in d:\\project\\fashiongan\\fashiongan\\lib\\site-packages (from tensorflow-intel==2.14.0->tensorflow) (2.14.0)\n",
      "Requirement already satisfied: keras<2.15,>=2.14.0 in d:\\project\\fashiongan\\fashiongan\\lib\\site-packages (from tensorflow-intel==2.14.0->tensorflow) (2.14.0)\n",
      "Requirement already satisfied: contourpy>=1.0.1 in d:\\project\\fashiongan\\fashiongan\\lib\\site-packages (from matplotlib) (1.2.0)\n",
      "Requirement already satisfied: cycler>=0.10 in d:\\project\\fashiongan\\fashiongan\\lib\\site-packages (from matplotlib) (0.12.1)\n",
      "Requirement already satisfied: fonttools>=4.22.0 in d:\\project\\fashiongan\\fashiongan\\lib\\site-packages (from matplotlib) (4.44.0)\n",
      "Requirement already satisfied: kiwisolver>=1.3.1 in d:\\project\\fashiongan\\fashiongan\\lib\\site-packages (from matplotlib) (1.4.5)\n",
      "Requirement already satisfied: pillow>=8 in d:\\project\\fashiongan\\fashiongan\\lib\\site-packages (from matplotlib) (10.1.0)\n",
      "Requirement already satisfied: pyparsing>=2.3.1 in d:\\project\\fashiongan\\fashiongan\\lib\\site-packages (from matplotlib) (3.1.1)\n",
      "Requirement already satisfied: python-dateutil>=2.7 in d:\\project\\fashiongan\\fashiongan\\lib\\site-packages (from matplotlib) (2.8.2)\n",
      "Requirement already satisfied: dill in d:\\project\\fashiongan\\fashiongan\\lib\\site-packages (from tensorflow-datasets) (0.3.7)\n",
      "Requirement already satisfied: promise in d:\\project\\fashiongan\\fashiongan\\lib\\site-packages (from tensorflow-datasets) (2.3)\n",
      "Requirement already satisfied: requests>=2.19.0 in d:\\project\\fashiongan\\fashiongan\\lib\\site-packages (from tensorflow-datasets) (2.31.0)\n",
      "Requirement already satisfied: tensorflow-metadata in d:\\project\\fashiongan\\fashiongan\\lib\\site-packages (from tensorflow-datasets) (1.14.0)\n",
      "Requirement already satisfied: tqdm in d:\\project\\fashiongan\\fashiongan\\lib\\site-packages (from tensorflow-datasets) (4.66.1)\n",
      "Requirement already satisfied: comm>=0.1.3 in d:\\project\\fashiongan\\fashiongan\\lib\\site-packages (from ipywidgets) (0.2.0)\n",
      "Requirement already satisfied: ipython>=6.1.0 in d:\\project\\fashiongan\\fashiongan\\lib\\site-packages (from ipywidgets) (8.17.2)\n",
      "Requirement already satisfied: traitlets>=4.3.1 in d:\\project\\fashiongan\\fashiongan\\lib\\site-packages (from ipywidgets) (5.13.0)\n",
      "Requirement already satisfied: widgetsnbextension~=4.0.9 in d:\\project\\fashiongan\\fashiongan\\lib\\site-packages (from ipywidgets) (4.0.9)\n",
      "Requirement already satisfied: jupyterlab-widgets~=3.0.9 in d:\\project\\fashiongan\\fashiongan\\lib\\site-packages (from ipywidgets) (3.0.9)\n",
      "Requirement already satisfied: decorator in d:\\project\\fashiongan\\fashiongan\\lib\\site-packages (from ipython>=6.1.0->ipywidgets) (5.1.1)\n",
      "Requirement already satisfied: jedi>=0.16 in d:\\project\\fashiongan\\fashiongan\\lib\\site-packages (from ipython>=6.1.0->ipywidgets) (0.19.1)\n",
      "Requirement already satisfied: matplotlib-inline in d:\\project\\fashiongan\\fashiongan\\lib\\site-packages (from ipython>=6.1.0->ipywidgets) (0.1.6)\n",
      "Requirement already satisfied: prompt-toolkit!=3.0.37,<3.1.0,>=3.0.30 in d:\\project\\fashiongan\\fashiongan\\lib\\site-packages (from ipython>=6.1.0->ipywidgets) (3.0.40)\n",
      "Requirement already satisfied: pygments>=2.4.0 in d:\\project\\fashiongan\\fashiongan\\lib\\site-packages (from ipython>=6.1.0->ipywidgets) (2.16.1)\n",
      "Requirement already satisfied: stack-data in d:\\project\\fashiongan\\fashiongan\\lib\\site-packages (from ipython>=6.1.0->ipywidgets) (0.6.3)\n",
      "Requirement already satisfied: colorama in d:\\project\\fashiongan\\fashiongan\\lib\\site-packages (from ipython>=6.1.0->ipywidgets) (0.4.6)\n",
      "Requirement already satisfied: charset-normalizer<4,>=2 in d:\\project\\fashiongan\\fashiongan\\lib\\site-packages (from requests>=2.19.0->tensorflow-datasets) (3.3.2)\n",
      "Requirement already satisfied: idna<4,>=2.5 in d:\\project\\fashiongan\\fashiongan\\lib\\site-packages (from requests>=2.19.0->tensorflow-datasets) (3.4)\n",
      "Requirement already satisfied: urllib3<3,>=1.21.1 in d:\\project\\fashiongan\\fashiongan\\lib\\site-packages (from requests>=2.19.0->tensorflow-datasets) (2.0.7)\n",
      "Requirement already satisfied: certifi>=2017.4.17 in d:\\project\\fashiongan\\fashiongan\\lib\\site-packages (from requests>=2.19.0->tensorflow-datasets) (2023.7.22)\n",
      "Requirement already satisfied: googleapis-common-protos<2,>=1.52.0 in d:\\project\\fashiongan\\fashiongan\\lib\\site-packages (from tensorflow-metadata->tensorflow-datasets) (1.61.0)\n",
      "Requirement already satisfied: wheel<1.0,>=0.23.0 in d:\\project\\fashiongan\\fashiongan\\lib\\site-packages (from astunparse>=1.6.0->tensorflow-intel==2.14.0->tensorflow) (0.41.3)\n",
      "Requirement already satisfied: parso<0.9.0,>=0.8.3 in d:\\project\\fashiongan\\fashiongan\\lib\\site-packages (from jedi>=0.16->ipython>=6.1.0->ipywidgets) (0.8.3)\n",
      "Requirement already satisfied: wcwidth in d:\\project\\fashiongan\\fashiongan\\lib\\site-packages (from prompt-toolkit!=3.0.37,<3.1.0,>=3.0.30->ipython>=6.1.0->ipywidgets) (0.2.9)\n",
      "Requirement already satisfied: google-auth<3,>=1.6.3 in d:\\project\\fashiongan\\fashiongan\\lib\\site-packages (from tensorboard<2.15,>=2.14->tensorflow-intel==2.14.0->tensorflow) (2.23.4)\n",
      "Requirement already satisfied: google-auth-oauthlib<1.1,>=0.5 in d:\\project\\fashiongan\\fashiongan\\lib\\site-packages (from tensorboard<2.15,>=2.14->tensorflow-intel==2.14.0->tensorflow) (1.0.0)\n",
      "Requirement already satisfied: markdown>=2.6.8 in d:\\project\\fashiongan\\fashiongan\\lib\\site-packages (from tensorboard<2.15,>=2.14->tensorflow-intel==2.14.0->tensorflow) (3.5.1)\n",
      "Requirement already satisfied: tensorboard-data-server<0.8.0,>=0.7.0 in d:\\project\\fashiongan\\fashiongan\\lib\\site-packages (from tensorboard<2.15,>=2.14->tensorflow-intel==2.14.0->tensorflow) (0.7.2)\n",
      "Requirement already satisfied: werkzeug>=1.0.1 in d:\\project\\fashiongan\\fashiongan\\lib\\site-packages (from tensorboard<2.15,>=2.14->tensorflow-intel==2.14.0->tensorflow) (3.0.1)\n",
      "Requirement already satisfied: executing>=1.2.0 in d:\\project\\fashiongan\\fashiongan\\lib\\site-packages (from stack-data->ipython>=6.1.0->ipywidgets) (2.0.1)\n",
      "Requirement already satisfied: asttokens>=2.1.0 in d:\\project\\fashiongan\\fashiongan\\lib\\site-packages (from stack-data->ipython>=6.1.0->ipywidgets) (2.4.1)\n",
      "Requirement already satisfied: pure-eval in d:\\project\\fashiongan\\fashiongan\\lib\\site-packages (from stack-data->ipython>=6.1.0->ipywidgets) (0.2.2)\n",
      "Requirement already satisfied: cachetools<6.0,>=2.0.0 in d:\\project\\fashiongan\\fashiongan\\lib\\site-packages (from google-auth<3,>=1.6.3->tensorboard<2.15,>=2.14->tensorflow-intel==2.14.0->tensorflow) (5.3.2)\n",
      "Requirement already satisfied: pyasn1-modules>=0.2.1 in d:\\project\\fashiongan\\fashiongan\\lib\\site-packages (from google-auth<3,>=1.6.3->tensorboard<2.15,>=2.14->tensorflow-intel==2.14.0->tensorflow) (0.3.0)\n",
      "Requirement already satisfied: rsa<5,>=3.1.4 in d:\\project\\fashiongan\\fashiongan\\lib\\site-packages (from google-auth<3,>=1.6.3->tensorboard<2.15,>=2.14->tensorflow-intel==2.14.0->tensorflow) (4.9)\n",
      "Requirement already satisfied: requests-oauthlib>=0.7.0 in d:\\project\\fashiongan\\fashiongan\\lib\\site-packages (from google-auth-oauthlib<1.1,>=0.5->tensorboard<2.15,>=2.14->tensorflow-intel==2.14.0->tensorflow) (1.3.1)\n",
      "Requirement already satisfied: MarkupSafe>=2.1.1 in d:\\project\\fashiongan\\fashiongan\\lib\\site-packages (from werkzeug>=1.0.1->tensorboard<2.15,>=2.14->tensorflow-intel==2.14.0->tensorflow) (2.1.3)\n",
      "Requirement already satisfied: pyasn1<0.6.0,>=0.4.6 in d:\\project\\fashiongan\\fashiongan\\lib\\site-packages (from pyasn1-modules>=0.2.1->google-auth<3,>=1.6.3->tensorboard<2.15,>=2.14->tensorflow-intel==2.14.0->tensorflow) (0.5.0)\n",
      "Requirement already satisfied: oauthlib>=3.0.0 in d:\\project\\fashiongan\\fashiongan\\lib\\site-packages (from requests-oauthlib>=0.7.0->google-auth-oauthlib<1.1,>=0.5->tensorboard<2.15,>=2.14->tensorflow-intel==2.14.0->tensorflow) (3.2.2)\n"
     ]
    },
    {
     "name": "stderr",
     "output_type": "stream",
     "text": [
      "\n",
      "[notice] A new release of pip is available: 23.2.1 -> 23.3.1\n",
      "[notice] To update, run: python.exe -m pip install --upgrade pip\n"
     ]
    }
   ],
   "source": [
    "!pip install tensorflow matplotlib tensorflow-datasets ipywidgets"
   ]
  },
  {
   "cell_type": "code",
   "execution_count": 3,
   "id": "582b5e57-3fe1-4aec-b90a-505ced8e6f47",
   "metadata": {
    "tags": []
   },
   "outputs": [
    {
     "name": "stdout",
     "output_type": "stream",
     "text": [
      "Package                      Version\n",
      "---------------------------- ---------\n",
      "absl-py                      1.4.0\n",
      "array-record                 0.4.1\n",
      "asttokens                    2.4.1\n",
      "astunparse                   1.6.3\n",
      "cachetools                   5.3.2\n",
      "certifi                      2023.7.22\n",
      "charset-normalizer           3.3.2\n",
      "click                        8.1.7\n",
      "colorama                     0.4.6\n",
      "comm                         0.2.0\n",
      "contourpy                    1.2.0\n",
      "cycler                       0.12.1\n",
      "debugpy                      1.8.0\n",
      "decorator                    5.1.1\n",
      "dm-tree                      0.1.8\n",
      "etils                        1.5.2\n",
      "executing                    2.0.1\n",
      "flatbuffers                  23.5.26\n",
      "fonttools                    4.44.0\n",
      "fsspec                       2023.10.0\n",
      "gast                         0.5.4\n",
      "google-auth                  2.23.4\n",
      "google-auth-oauthlib         1.0.0\n",
      "google-pasta                 0.2.0\n",
      "googleapis-common-protos     1.61.0\n",
      "grpcio                       1.59.2\n",
      "h5py                         3.10.0\n",
      "idna                         3.4\n",
      "importlib-resources          6.1.1\n",
      "ipykernel                    6.26.0\n",
      "ipython                      8.17.2\n",
      "ipywidgets                   8.1.1\n",
      "jedi                         0.19.1\n",
      "jupyter_client               8.6.0\n",
      "jupyter_core                 5.5.0\n",
      "jupyterlab-widgets           3.0.9\n",
      "keras                        2.14.0\n",
      "kiwisolver                   1.4.5\n",
      "libclang                     16.0.6\n",
      "Markdown                     3.5.1\n",
      "MarkupSafe                   2.1.3\n",
      "matplotlib                   3.8.1\n",
      "matplotlib-inline            0.1.6\n",
      "ml-dtypes                    0.2.0\n",
      "nest-asyncio                 1.5.8\n",
      "numpy                        1.26.1\n",
      "oauthlib                     3.2.2\n",
      "opt-einsum                   3.3.0\n",
      "packaging                    23.2\n",
      "parso                        0.8.3\n",
      "Pillow                       10.1.0\n",
      "pip                          23.2.1\n",
      "platformdirs                 4.0.0\n",
      "promise                      2.3\n",
      "prompt-toolkit               3.0.40\n",
      "protobuf                     3.20.3\n",
      "psutil                       5.9.6\n",
      "pure-eval                    0.2.2\n",
      "pyasn1                       0.5.0\n",
      "pyasn1-modules               0.3.0\n",
      "Pygments                     2.16.1\n",
      "pyparsing                    3.1.1\n",
      "python-dateutil              2.8.2\n",
      "pywin32                      306\n",
      "pyzmq                        25.1.1\n",
      "requests                     2.31.0\n",
      "requests-oauthlib            1.3.1\n",
      "rsa                          4.9\n",
      "setuptools                   65.5.0\n",
      "six                          1.16.0\n",
      "stack-data                   0.6.3\n",
      "tensorboard                  2.14.1\n",
      "tensorboard-data-server      0.7.2\n",
      "tensorflow                   2.14.0\n",
      "tensorflow-datasets          4.9.3\n",
      "tensorflow-estimator         2.14.0\n",
      "tensorflow-intel             2.14.0\n",
      "tensorflow-io-gcs-filesystem 0.31.0\n",
      "tensorflow-metadata          1.14.0\n",
      "termcolor                    2.3.0\n",
      "toml                         0.10.2\n",
      "tornado                      6.3.3\n",
      "tqdm                         4.66.1\n",
      "traitlets                    5.13.0\n",
      "typing_extensions            4.8.0\n",
      "urllib3                      2.0.7\n",
      "wcwidth                      0.2.9\n",
      "Werkzeug                     3.0.1\n",
      "wheel                        0.41.3\n",
      "widgetsnbextension           4.0.9\n",
      "wrapt                        1.14.1\n",
      "zipp                         3.17.0\n",
      "Note: you may need to restart the kernel to use updated packages.\n"
     ]
    },
    {
     "name": "stderr",
     "output_type": "stream",
     "text": [
      "\n",
      "[notice] A new release of pip is available: 23.2.1 -> 23.3.1\n",
      "[notice] To update, run: python.exe -m pip install --upgrade pip\n"
     ]
    }
   ],
   "source": [
    "pip list"
   ]
  },
  {
   "cell_type": "code",
   "execution_count": 5,
   "id": "a4a412f1-a224-482e-9d2c-4ee75fc997ef",
   "metadata": {
    "tags": []
   },
   "outputs": [
    {
     "data": {
      "text/plain": [
       "[]"
      ]
     },
     "execution_count": 5,
     "metadata": {},
     "output_type": "execute_result"
    }
   ],
   "source": [
    "import tensorflow as tf\n",
    "\n",
    "gpus = tf.config.experimental.list_physical_devices('GPU')\n",
    "gpus"
   ]
  },
  {
   "cell_type": "code",
   "execution_count": 6,
   "id": "e188dfb5-189c-48e4-872e-cdb193c3f3be",
   "metadata": {
    "tags": []
   },
   "outputs": [],
   "source": [
    "from matplotlib import pyplot as plt"
   ]
  },
  {
   "cell_type": "code",
   "execution_count": 2,
   "id": "3a1fe367-fad1-4c3b-9f26-c2506b50e5a3",
   "metadata": {
    "tags": []
   },
   "outputs": [
    {
     "name": "stdout",
     "output_type": "stream",
     "text": [
      "Requirement already satisfied: tensorflow_datasets in d:\\project\\fashiongan\\fashiongan\\lib\\site-packages (4.5.2)"
     ]
    },
    {
     "name": "stderr",
     "output_type": "stream",
     "text": [
      "\n",
      "[notice] A new release of pip is available: 23.2.1 -> 23.3.1\n",
      "[notice] To update, run: python.exe -m pip install --upgrade pip\n"
     ]
    },
    {
     "name": "stdout",
     "output_type": "stream",
     "text": [
      "\n",
      "Requirement already satisfied: absl-py in d:\\project\\fashiongan\\fashiongan\\lib\\site-packages (from tensorflow_datasets) (1.4.0)\n",
      "Requirement already satisfied: dill in d:\\project\\fashiongan\\fashiongan\\lib\\site-packages (from tensorflow_datasets) (0.3.7)\n",
      "Requirement already satisfied: numpy in d:\\project\\fashiongan\\fashiongan\\lib\\site-packages (from tensorflow_datasets) (1.26.1)\n",
      "Requirement already satisfied: promise in d:\\project\\fashiongan\\fashiongan\\lib\\site-packages (from tensorflow_datasets) (2.3)\n",
      "Requirement already satisfied: protobuf>=3.12.2 in d:\\project\\fashiongan\\fashiongan\\lib\\site-packages (from tensorflow_datasets) (3.20.3)\n",
      "Requirement already satisfied: requests>=2.19.0 in d:\\project\\fashiongan\\fashiongan\\lib\\site-packages (from tensorflow_datasets) (2.31.0)\n",
      "Requirement already satisfied: six in d:\\project\\fashiongan\\fashiongan\\lib\\site-packages (from tensorflow_datasets) (1.16.0)\n",
      "Requirement already satisfied: tensorflow-metadata in d:\\project\\fashiongan\\fashiongan\\lib\\site-packages (from tensorflow_datasets) (1.14.0)\n",
      "Requirement already satisfied: termcolor in d:\\project\\fashiongan\\fashiongan\\lib\\site-packages (from tensorflow_datasets) (2.3.0)\n",
      "Requirement already satisfied: tqdm in d:\\project\\fashiongan\\fashiongan\\lib\\site-packages (from tensorflow_datasets) (4.66.1)\n",
      "Requirement already satisfied: charset-normalizer<4,>=2 in d:\\project\\fashiongan\\fashiongan\\lib\\site-packages (from requests>=2.19.0->tensorflow_datasets) (3.3.2)\n",
      "Requirement already satisfied: idna<4,>=2.5 in d:\\project\\fashiongan\\fashiongan\\lib\\site-packages (from requests>=2.19.0->tensorflow_datasets) (3.4)\n",
      "Requirement already satisfied: urllib3<3,>=1.21.1 in d:\\project\\fashiongan\\fashiongan\\lib\\site-packages (from requests>=2.19.0->tensorflow_datasets) (2.0.7)\n",
      "Requirement already satisfied: certifi>=2017.4.17 in d:\\project\\fashiongan\\fashiongan\\lib\\site-packages (from requests>=2.19.0->tensorflow_datasets) (2023.7.22)\n",
      "Requirement already satisfied: googleapis-common-protos<2,>=1.52.0 in d:\\project\\fashiongan\\fashiongan\\lib\\site-packages (from tensorflow-metadata->tensorflow_datasets) (1.61.0)\n",
      "Requirement already satisfied: colorama in d:\\project\\fashiongan\\fashiongan\\lib\\site-packages (from tqdm->tensorflow_datasets) (0.4.6)\n",
      "Requirement already satisfied: tfds-nightly in d:\\project\\fashiongan\\fashiongan\\lib\\site-packages (4.9.3.dev202310060044)\n",
      "Requirement already satisfied: absl-py in d:\\project\\fashiongan\\fashiongan\\lib\\site-packages (from tfds-nightly) (1.4.0)\n",
      "Requirement already satisfied: array-record in d:\\project\\fashiongan\\fashiongan\\lib\\site-packages (from tfds-nightly) (0.4.1)\n",
      "Requirement already satisfied: click in d:\\project\\fashiongan\\fashiongan\\lib\\site-packages (from tfds-nightly) (8.1.7)\n",
      "Requirement already satisfied: dm-tree in d:\\project\\fashiongan\\fashiongan\\lib\\site-packages (from tfds-nightly) (0.1.8)\n",
      "Requirement already satisfied: etils[enp,epath,etree]>=0.9.0 in d:\\project\\fashiongan\\fashiongan\\lib\\site-packages (from tfds-nightly) (1.5.2)\n",
      "Requirement already satisfied: numpy in d:\\project\\fashiongan\\fashiongan\\lib\\site-packages (from tfds-nightly) (1.26.1)\n",
      "Requirement already satisfied: promise in d:\\project\\fashiongan\\fashiongan\\lib\\site-packages (from tfds-nightly) (2.3)\n",
      "Requirement already satisfied: protobuf>=3.20 in d:\\project\\fashiongan\\fashiongan\\lib\\site-packages (from tfds-nightly) (3.20.3)\n",
      "Requirement already satisfied: psutil in d:\\project\\fashiongan\\fashiongan\\lib\\site-packages (from tfds-nightly) (5.9.6)\n",
      "Requirement already satisfied: requests>=2.19.0 in d:\\project\\fashiongan\\fashiongan\\lib\\site-packages (from tfds-nightly) (2.31.0)\n",
      "Requirement already satisfied: tensorflow-metadata in d:\\project\\fashiongan\\fashiongan\\lib\\site-packages (from tfds-nightly) (1.14.0)\n",
      "Requirement already satisfied: termcolor in d:\\project\\fashiongan\\fashiongan\\lib\\site-packages (from tfds-nightly) (2.3.0)\n",
      "Requirement already satisfied: toml in d:\\project\\fashiongan\\fashiongan\\lib\\site-packages (from tfds-nightly) (0.10.2)\n",
      "Requirement already satisfied: tqdm in d:\\project\\fashiongan\\fashiongan\\lib\\site-packages (from tfds-nightly) (4.66.1)\n",
      "Requirement already satisfied: wrapt in d:\\project\\fashiongan\\fashiongan\\lib\\site-packages (from tfds-nightly) (1.14.1)\n",
      "Requirement already satisfied: fsspec in d:\\project\\fashiongan\\fashiongan\\lib\\site-packages (from etils[enp,epath,etree]>=0.9.0->tfds-nightly) (2023.10.0)\n",
      "Requirement already satisfied: importlib_resources in d:\\project\\fashiongan\\fashiongan\\lib\\site-packages (from etils[enp,epath,etree]>=0.9.0->tfds-nightly) (6.1.1)\n",
      "Requirement already satisfied: typing_extensions in d:\\project\\fashiongan\\fashiongan\\lib\\site-packages (from etils[enp,epath,etree]>=0.9.0->tfds-nightly) (4.8.0)\n",
      "Requirement already satisfied: zipp in d:\\project\\fashiongan\\fashiongan\\lib\\site-packages (from etils[enp,epath,etree]>=0.9.0->tfds-nightly) (3.17.0)\n",
      "Requirement already satisfied: charset-normalizer<4,>=2 in d:\\project\\fashiongan\\fashiongan\\lib\\site-packages (from requests>=2.19.0->tfds-nightly) (3.3.2)\n",
      "Requirement already satisfied: idna<4,>=2.5 in d:\\project\\fashiongan\\fashiongan\\lib\\site-packages (from requests>=2.19.0->tfds-nightly) (3.4)\n",
      "Requirement already satisfied: urllib3<3,>=1.21.1 in d:\\project\\fashiongan\\fashiongan\\lib\\site-packages (from requests>=2.19.0->tfds-nightly) (2.0.7)\n",
      "Requirement already satisfied: certifi>=2017.4.17 in d:\\project\\fashiongan\\fashiongan\\lib\\site-packages (from requests>=2.19.0->tfds-nightly) (2023.7.22)\n",
      "Requirement already satisfied: colorama in d:\\project\\fashiongan\\fashiongan\\lib\\site-packages (from click->tfds-nightly) (0.4.6)\n",
      "Requirement already satisfied: six in d:\\project\\fashiongan\\fashiongan\\lib\\site-packages (from promise->tfds-nightly) (1.16.0)\n",
      "Requirement already satisfied: googleapis-common-protos<2,>=1.52.0 in d:\\project\\fashiongan\\fashiongan\\lib\\site-packages (from tensorflow-metadata->tfds-nightly) (1.61.0)\n"
     ]
    },
    {
     "name": "stderr",
     "output_type": "stream",
     "text": [
      "\n",
      "[notice] A new release of pip is available: 23.2.1 -> 23.3.1\n",
      "[notice] To update, run: python.exe -m pip install --upgrade pip\n"
     ]
    }
   ],
   "source": [
    "!pip install tensorflow_datasets\n",
    "!pip install tfds-nightly"
   ]
  },
  {
   "cell_type": "code",
   "execution_count": 3,
   "id": "bb2bbd6f-9493-45c0-b2c8-ae4b0fbc2bf6",
   "metadata": {
    "tags": []
   },
   "outputs": [
    {
     "name": "stderr",
     "output_type": "stream",
     "text": [
      "\n",
      "[notice] A new release of pip is available: 23.2.1 -> 23.3.1\n",
      "[notice] To update, run: python.exe -m pip install --upgrade pip\n"
     ]
    }
   ],
   "source": [
    "!pip install -q tfds-nightly tensorflow matplotlib"
   ]
  },
  {
   "cell_type": "code",
   "execution_count": 4,
   "id": "73dfbb3f-6b74-4a49-8db7-631ca227687e",
   "metadata": {
    "tags": []
   },
   "outputs": [],
   "source": [
    "import tensorflow_datasets as tfds"
   ]
  },
  {
   "cell_type": "code",
   "execution_count": 7,
   "id": "89b722c2-2c81-4660-b293-e7253fbf6286",
   "metadata": {
    "tags": []
   },
   "outputs": [
    {
     "name": "stdout",
     "output_type": "stream",
     "text": [
      "\u001b[1mDownloading and preparing dataset Unknown size (download: Unknown size, generated: Unknown size, total: Unknown size) to C:\\Users\\HP\\tensorflow_datasets\\fashion_mnist\\3.0.1...\u001b[0m\n"
     ]
    },
    {
     "data": {
      "application/vnd.jupyter.widget-view+json": {
       "model_id": "6b8d9773032b42cf850afdcff7f40cd0",
       "version_major": 2,
       "version_minor": 0
      },
      "text/plain": [
       "Dl Completed...: 0 url [00:00, ? url/s]"
      ]
     },
     "metadata": {},
     "output_type": "display_data"
    },
    {
     "data": {
      "application/vnd.jupyter.widget-view+json": {
       "model_id": "ade81a5bc17943b9b4bf67f9922be3db",
       "version_major": 2,
       "version_minor": 0
      },
      "text/plain": [
       "Dl Size...: 0 MiB [00:00, ? MiB/s]"
      ]
     },
     "metadata": {},
     "output_type": "display_data"
    },
    {
     "data": {
      "application/vnd.jupyter.widget-view+json": {
       "model_id": "dab174bcca0c41b191fa46655f1328a3",
       "version_major": 2,
       "version_minor": 0
      },
      "text/plain": [
       "Extraction completed...: 0 file [00:00, ? file/s]"
      ]
     },
     "metadata": {},
     "output_type": "display_data"
    },
    {
     "data": {
      "application/vnd.jupyter.widget-view+json": {
       "model_id": "",
       "version_major": 2,
       "version_minor": 0
      },
      "text/plain": [
       "Generating splits...:   0%|          | 0/2 [00:00<?, ? splits/s]"
      ]
     },
     "metadata": {},
     "output_type": "display_data"
    },
    {
     "data": {
      "application/vnd.jupyter.widget-view+json": {
       "model_id": "",
       "version_major": 2,
       "version_minor": 0
      },
      "text/plain": [
       "Generating train examples...: 0 examples [00:00, ? examples/s]"
      ]
     },
     "metadata": {},
     "output_type": "display_data"
    },
    {
     "data": {
      "application/vnd.jupyter.widget-view+json": {
       "model_id": "",
       "version_major": 2,
       "version_minor": 0
      },
      "text/plain": [
       "Shuffling C:\\Users\\HP\\tensorflow_datasets\\fashion_mnist\\3.0.1.incompleteZ80RI2\\fashion_mnist-train.tfrecord*..…"
      ]
     },
     "metadata": {},
     "output_type": "display_data"
    },
    {
     "data": {
      "application/vnd.jupyter.widget-view+json": {
       "model_id": "",
       "version_major": 2,
       "version_minor": 0
      },
      "text/plain": [
       "Generating test examples...: 0 examples [00:00, ? examples/s]"
      ]
     },
     "metadata": {},
     "output_type": "display_data"
    },
    {
     "data": {
      "application/vnd.jupyter.widget-view+json": {
       "model_id": "",
       "version_major": 2,
       "version_minor": 0
      },
      "text/plain": [
       "Shuffling C:\\Users\\HP\\tensorflow_datasets\\fashion_mnist\\3.0.1.incompleteZ80RI2\\fashion_mnist-test.tfrecord*...…"
      ]
     },
     "metadata": {},
     "output_type": "display_data"
    },
    {
     "name": "stdout",
     "output_type": "stream",
     "text": [
      "\u001b[1mDataset fashion_mnist downloaded and prepared to C:\\Users\\HP\\tensorflow_datasets\\fashion_mnist\\3.0.1. Subsequent calls will reuse this data.\u001b[0m\n"
     ]
    }
   ],
   "source": [
    "ds = tfds.load('fashion_mnist', split = 'train')"
   ]
  },
  {
   "cell_type": "code",
   "execution_count": 10,
   "id": "a3f6967c-7b9b-4c38-a52e-ff45bbcea790",
   "metadata": {
    "tags": []
   },
   "outputs": [
    {
     "data": {
      "text/plain": [
       "dict_keys(['image', 'label'])"
      ]
     },
     "execution_count": 10,
     "metadata": {},
     "output_type": "execute_result"
    }
   ],
   "source": [
    "ds.as_numpy_iterator().next().keys()"
   ]
  },
  {
   "cell_type": "markdown",
   "id": "ebc29e4b-e538-4d22-aa34-ec1eafcd1c40",
   "metadata": {},
   "source": [
    "# Visualization and Built Data"
   ]
  },
  {
   "cell_type": "code",
   "execution_count": 11,
   "id": "6bb554df-40c7-4f55-bfd9-bbe67647b942",
   "metadata": {
    "tags": []
   },
   "outputs": [],
   "source": [
    "import numpy as np"
   ]
  },
  {
   "cell_type": "code",
   "execution_count": 12,
   "id": "e92bf16e-203c-4283-9bcb-afaf402d4764",
   "metadata": {
    "tags": []
   },
   "outputs": [],
   "source": [
    "# Setup connection AKA iterator\n",
    "dataiterator = ds.as_numpy_iterator()"
   ]
  },
  {
   "cell_type": "code",
   "execution_count": 16,
   "id": "65069441-1841-4999-9fcf-c6fdcf663907",
   "metadata": {
    "scrolled": true,
    "tags": []
   },
   "outputs": [
    {
     "data": {
      "text/plain": [
       "{'image': array([[[  0],\n",
       "         [  0],\n",
       "         [  0],\n",
       "         [  0],\n",
       "         [  0],\n",
       "         [  0],\n",
       "         [  0],\n",
       "         [  0],\n",
       "         [  0],\n",
       "         [  0],\n",
       "         [  2],\n",
       "         [127],\n",
       "         [106],\n",
       "         [136],\n",
       "         [102],\n",
       "         [147],\n",
       "         [136],\n",
       "         [  0],\n",
       "         [  0],\n",
       "         [  0],\n",
       "         [  0],\n",
       "         [  0],\n",
       "         [  0],\n",
       "         [  0],\n",
       "         [  0],\n",
       "         [  0],\n",
       "         [  0],\n",
       "         [  0]],\n",
       " \n",
       "        [[  0],\n",
       "         [  0],\n",
       "         [  0],\n",
       "         [  0],\n",
       "         [  0],\n",
       "         [  0],\n",
       "         [  0],\n",
       "         [  0],\n",
       "         [  0],\n",
       "         [ 64],\n",
       "         [254],\n",
       "         [255],\n",
       "         [254],\n",
       "         [255],\n",
       "         [255],\n",
       "         [255],\n",
       "         [247],\n",
       "         [161],\n",
       "         [122],\n",
       "         [  0],\n",
       "         [  0],\n",
       "         [  0],\n",
       "         [  0],\n",
       "         [  0],\n",
       "         [  0],\n",
       "         [  0],\n",
       "         [  0],\n",
       "         [  0]],\n",
       " \n",
       "        [[  0],\n",
       "         [  0],\n",
       "         [  0],\n",
       "         [  0],\n",
       "         [  0],\n",
       "         [  0],\n",
       "         [  0],\n",
       "         [  0],\n",
       "         [ 97],\n",
       "         [255],\n",
       "         [241],\n",
       "         [232],\n",
       "         [248],\n",
       "         [242],\n",
       "         [243],\n",
       "         [248],\n",
       "         [234],\n",
       "         [251],\n",
       "         [255],\n",
       "         [ 86],\n",
       "         [  0],\n",
       "         [  0],\n",
       "         [  0],\n",
       "         [  0],\n",
       "         [  0],\n",
       "         [  0],\n",
       "         [  0],\n",
       "         [  0]],\n",
       " \n",
       "        [[  0],\n",
       "         [  0],\n",
       "         [  0],\n",
       "         [  0],\n",
       "         [  0],\n",
       "         [  0],\n",
       "         [  0],\n",
       "         [128],\n",
       "         [229],\n",
       "         [235],\n",
       "         [234],\n",
       "         [226],\n",
       "         [245],\n",
       "         [248],\n",
       "         [248],\n",
       "         [246],\n",
       "         [219],\n",
       "         [223],\n",
       "         [230],\n",
       "         [222],\n",
       "         [139],\n",
       "         [  0],\n",
       "         [  0],\n",
       "         [  0],\n",
       "         [  0],\n",
       "         [  0],\n",
       "         [  0],\n",
       "         [  0]],\n",
       " \n",
       "        [[  0],\n",
       "         [  0],\n",
       "         [  0],\n",
       "         [  0],\n",
       "         [  0],\n",
       "         [  0],\n",
       "         [173],\n",
       "         [255],\n",
       "         [238],\n",
       "         [229],\n",
       "         [227],\n",
       "         [219],\n",
       "         [226],\n",
       "         [253],\n",
       "         [254],\n",
       "         [219],\n",
       "         [224],\n",
       "         [230],\n",
       "         [224],\n",
       "         [240],\n",
       "         [255],\n",
       "         [171],\n",
       "         [  0],\n",
       "         [  0],\n",
       "         [  0],\n",
       "         [  0],\n",
       "         [  0],\n",
       "         [  0]],\n",
       " \n",
       "        [[  0],\n",
       "         [  0],\n",
       "         [  0],\n",
       "         [  0],\n",
       "         [  0],\n",
       "         [ 54],\n",
       "         [248],\n",
       "         [226],\n",
       "         [233],\n",
       "         [253],\n",
       "         [254],\n",
       "         [250],\n",
       "         [237],\n",
       "         [241],\n",
       "         [233],\n",
       "         [229],\n",
       "         [243],\n",
       "         [249],\n",
       "         [245],\n",
       "         [234],\n",
       "         [226],\n",
       "         [248],\n",
       "         [ 52],\n",
       "         [  0],\n",
       "         [  0],\n",
       "         [  0],\n",
       "         [  0],\n",
       "         [  0]],\n",
       " \n",
       "        [[  0],\n",
       "         [  0],\n",
       "         [  0],\n",
       "         [  0],\n",
       "         [  0],\n",
       "         [147],\n",
       "         [250],\n",
       "         [228],\n",
       "         [233],\n",
       "         [234],\n",
       "         [238],\n",
       "         [245],\n",
       "         [239],\n",
       "         [237],\n",
       "         [242],\n",
       "         [244],\n",
       "         [243],\n",
       "         [239],\n",
       "         [229],\n",
       "         [231],\n",
       "         [229],\n",
       "         [252],\n",
       "         [150],\n",
       "         [  0],\n",
       "         [  0],\n",
       "         [  0],\n",
       "         [  0],\n",
       "         [  0]],\n",
       " \n",
       "        [[  0],\n",
       "         [  0],\n",
       "         [  0],\n",
       "         [  0],\n",
       "         [  0],\n",
       "         [204],\n",
       "         [248],\n",
       "         [232],\n",
       "         [232],\n",
       "         [232],\n",
       "         [232],\n",
       "         [230],\n",
       "         [232],\n",
       "         [237],\n",
       "         [233],\n",
       "         [230],\n",
       "         [230],\n",
       "         [229],\n",
       "         [228],\n",
       "         [232],\n",
       "         [231],\n",
       "         [248],\n",
       "         [205],\n",
       "         [  0],\n",
       "         [  0],\n",
       "         [  0],\n",
       "         [  0],\n",
       "         [  0]],\n",
       " \n",
       "        [[  0],\n",
       "         [  0],\n",
       "         [  0],\n",
       "         [  0],\n",
       "         [  0],\n",
       "         [231],\n",
       "         [245],\n",
       "         [237],\n",
       "         [233],\n",
       "         [232],\n",
       "         [233],\n",
       "         [233],\n",
       "         [233],\n",
       "         [233],\n",
       "         [232],\n",
       "         [233],\n",
       "         [231],\n",
       "         [231],\n",
       "         [232],\n",
       "         [234],\n",
       "         [240],\n",
       "         [245],\n",
       "         [227],\n",
       "         [  0],\n",
       "         [  0],\n",
       "         [  0],\n",
       "         [  0],\n",
       "         [  0]],\n",
       " \n",
       "        [[  0],\n",
       "         [  0],\n",
       "         [  0],\n",
       "         [  0],\n",
       "         [  0],\n",
       "         [249],\n",
       "         [241],\n",
       "         [242],\n",
       "         [243],\n",
       "         [230],\n",
       "         [232],\n",
       "         [233],\n",
       "         [234],\n",
       "         [234],\n",
       "         [233],\n",
       "         [234],\n",
       "         [233],\n",
       "         [231],\n",
       "         [229],\n",
       "         [246],\n",
       "         [243],\n",
       "         [240],\n",
       "         [250],\n",
       "         [  0],\n",
       "         [  0],\n",
       "         [  0],\n",
       "         [  0],\n",
       "         [  0]],\n",
       " \n",
       "        [[  0],\n",
       "         [  0],\n",
       "         [  0],\n",
       "         [  0],\n",
       "         [  0],\n",
       "         [255],\n",
       "         [240],\n",
       "         [246],\n",
       "         [242],\n",
       "         [233],\n",
       "         [233],\n",
       "         [234],\n",
       "         [235],\n",
       "         [234],\n",
       "         [233],\n",
       "         [233],\n",
       "         [233],\n",
       "         [232],\n",
       "         [232],\n",
       "         [246],\n",
       "         [243],\n",
       "         [239],\n",
       "         [255],\n",
       "         [  0],\n",
       "         [  0],\n",
       "         [  0],\n",
       "         [  0],\n",
       "         [  0]],\n",
       " \n",
       "        [[  0],\n",
       "         [  0],\n",
       "         [  0],\n",
       "         [  0],\n",
       "         [  0],\n",
       "         [255],\n",
       "         [239],\n",
       "         [247],\n",
       "         [238],\n",
       "         [231],\n",
       "         [234],\n",
       "         [235],\n",
       "         [236],\n",
       "         [234],\n",
       "         [232],\n",
       "         [233],\n",
       "         [234],\n",
       "         [235],\n",
       "         [231],\n",
       "         [242],\n",
       "         [248],\n",
       "         [241],\n",
       "         [255],\n",
       "         [  0],\n",
       "         [  0],\n",
       "         [  0],\n",
       "         [  0],\n",
       "         [  0]],\n",
       " \n",
       "        [[  0],\n",
       "         [  0],\n",
       "         [  0],\n",
       "         [  0],\n",
       "         [ 32],\n",
       "         [255],\n",
       "         [236],\n",
       "         [249],\n",
       "         [243],\n",
       "         [228],\n",
       "         [234],\n",
       "         [232],\n",
       "         [235],\n",
       "         [235],\n",
       "         [234],\n",
       "         [234],\n",
       "         [234],\n",
       "         [237],\n",
       "         [222],\n",
       "         [236],\n",
       "         [255],\n",
       "         [237],\n",
       "         [255],\n",
       "         [ 32],\n",
       "         [  0],\n",
       "         [  0],\n",
       "         [  0],\n",
       "         [  0]],\n",
       " \n",
       "        [[  0],\n",
       "         [  0],\n",
       "         [  0],\n",
       "         [  0],\n",
       "         [ 66],\n",
       "         [255],\n",
       "         [237],\n",
       "         [244],\n",
       "         [244],\n",
       "         [227],\n",
       "         [234],\n",
       "         [232],\n",
       "         [235],\n",
       "         [235],\n",
       "         [234],\n",
       "         [234],\n",
       "         [234],\n",
       "         [236],\n",
       "         [223],\n",
       "         [233],\n",
       "         [249],\n",
       "         [237],\n",
       "         [255],\n",
       "         [ 69],\n",
       "         [  0],\n",
       "         [  0],\n",
       "         [  0],\n",
       "         [  0]],\n",
       " \n",
       "        [[  0],\n",
       "         [  0],\n",
       "         [  0],\n",
       "         [  0],\n",
       "         [107],\n",
       "         [255],\n",
       "         [240],\n",
       "         [249],\n",
       "         [238],\n",
       "         [228],\n",
       "         [234],\n",
       "         [232],\n",
       "         [234],\n",
       "         [235],\n",
       "         [233],\n",
       "         [235],\n",
       "         [232],\n",
       "         [235],\n",
       "         [229],\n",
       "         [239],\n",
       "         [249],\n",
       "         [241],\n",
       "         [255],\n",
       "         [106],\n",
       "         [  0],\n",
       "         [  0],\n",
       "         [  0],\n",
       "         [  0]],\n",
       " \n",
       "        [[  0],\n",
       "         [  0],\n",
       "         [  0],\n",
       "         [  0],\n",
       "         [135],\n",
       "         [255],\n",
       "         [239],\n",
       "         [254],\n",
       "         [234],\n",
       "         [231],\n",
       "         [234],\n",
       "         [232],\n",
       "         [236],\n",
       "         [236],\n",
       "         [233],\n",
       "         [235],\n",
       "         [234],\n",
       "         [233],\n",
       "         [231],\n",
       "         [233],\n",
       "         [255],\n",
       "         [240],\n",
       "         [255],\n",
       "         [133],\n",
       "         [  0],\n",
       "         [  0],\n",
       "         [  0],\n",
       "         [  0]],\n",
       " \n",
       "        [[  0],\n",
       "         [  0],\n",
       "         [  0],\n",
       "         [  0],\n",
       "         [154],\n",
       "         [255],\n",
       "         [235],\n",
       "         [255],\n",
       "         [231],\n",
       "         [230],\n",
       "         [234],\n",
       "         [231],\n",
       "         [237],\n",
       "         [236],\n",
       "         [233],\n",
       "         [234],\n",
       "         [232],\n",
       "         [236],\n",
       "         [232],\n",
       "         [233],\n",
       "         [255],\n",
       "         [234],\n",
       "         [255],\n",
       "         [152],\n",
       "         [  0],\n",
       "         [  0],\n",
       "         [  0],\n",
       "         [  0]],\n",
       " \n",
       "        [[  0],\n",
       "         [  0],\n",
       "         [  0],\n",
       "         [  0],\n",
       "         [169],\n",
       "         [249],\n",
       "         [240],\n",
       "         [254],\n",
       "         [227],\n",
       "         [230],\n",
       "         [237],\n",
       "         [231],\n",
       "         [237],\n",
       "         [235],\n",
       "         [232],\n",
       "         [234],\n",
       "         [230],\n",
       "         [240],\n",
       "         [235],\n",
       "         [228],\n",
       "         [254],\n",
       "         [238],\n",
       "         [252],\n",
       "         [170],\n",
       "         [  0],\n",
       "         [  0],\n",
       "         [  0],\n",
       "         [  0]],\n",
       " \n",
       "        [[  0],\n",
       "         [  0],\n",
       "         [  0],\n",
       "         [  0],\n",
       "         [184],\n",
       "         [244],\n",
       "         [240],\n",
       "         [254],\n",
       "         [226],\n",
       "         [234],\n",
       "         [237],\n",
       "         [230],\n",
       "         [237],\n",
       "         [235],\n",
       "         [231],\n",
       "         [233],\n",
       "         [230],\n",
       "         [234],\n",
       "         [240],\n",
       "         [226],\n",
       "         [253],\n",
       "         [244],\n",
       "         [244],\n",
       "         [186],\n",
       "         [  0],\n",
       "         [  0],\n",
       "         [  0],\n",
       "         [  0]],\n",
       " \n",
       "        [[  0],\n",
       "         [  0],\n",
       "         [  0],\n",
       "         [  0],\n",
       "         [199],\n",
       "         [240],\n",
       "         [242],\n",
       "         [241],\n",
       "         [222],\n",
       "         [235],\n",
       "         [231],\n",
       "         [229],\n",
       "         [237],\n",
       "         [234],\n",
       "         [230],\n",
       "         [232],\n",
       "         [231],\n",
       "         [227],\n",
       "         [241],\n",
       "         [227],\n",
       "         [239],\n",
       "         [245],\n",
       "         [241],\n",
       "         [197],\n",
       "         [  0],\n",
       "         [  0],\n",
       "         [  0],\n",
       "         [  0]],\n",
       " \n",
       "        [[  0],\n",
       "         [  0],\n",
       "         [  0],\n",
       "         [  0],\n",
       "         [197],\n",
       "         [239],\n",
       "         [253],\n",
       "         [204],\n",
       "         [220],\n",
       "         [236],\n",
       "         [229],\n",
       "         [230],\n",
       "         [237],\n",
       "         [234],\n",
       "         [230],\n",
       "         [231],\n",
       "         [231],\n",
       "         [227],\n",
       "         [244],\n",
       "         [221],\n",
       "         [201],\n",
       "         [251],\n",
       "         [241],\n",
       "         [196],\n",
       "         [  0],\n",
       "         [  0],\n",
       "         [  0],\n",
       "         [  0]],\n",
       " \n",
       "        [[  0],\n",
       "         [  0],\n",
       "         [  0],\n",
       "         [  0],\n",
       "         [198],\n",
       "         [240],\n",
       "         [255],\n",
       "         [175],\n",
       "         [225],\n",
       "         [234],\n",
       "         [229],\n",
       "         [230],\n",
       "         [237],\n",
       "         [234],\n",
       "         [230],\n",
       "         [231],\n",
       "         [232],\n",
       "         [226],\n",
       "         [243],\n",
       "         [230],\n",
       "         [173],\n",
       "         [255],\n",
       "         [242],\n",
       "         [197],\n",
       "         [  0],\n",
       "         [  0],\n",
       "         [  0],\n",
       "         [  0]],\n",
       " \n",
       "        [[  0],\n",
       "         [  0],\n",
       "         [  0],\n",
       "         [  0],\n",
       "         [200],\n",
       "         [240],\n",
       "         [255],\n",
       "         [164],\n",
       "         [234],\n",
       "         [234],\n",
       "         [226],\n",
       "         [230],\n",
       "         [237],\n",
       "         [233],\n",
       "         [229],\n",
       "         [231],\n",
       "         [230],\n",
       "         [228],\n",
       "         [233],\n",
       "         [241],\n",
       "         [164],\n",
       "         [255],\n",
       "         [244],\n",
       "         [200],\n",
       "         [  0],\n",
       "         [  0],\n",
       "         [  0],\n",
       "         [  0]],\n",
       " \n",
       "        [[  0],\n",
       "         [  0],\n",
       "         [  0],\n",
       "         [  0],\n",
       "         [198],\n",
       "         [240],\n",
       "         [255],\n",
       "         [151],\n",
       "         [237],\n",
       "         [229],\n",
       "         [229],\n",
       "         [230],\n",
       "         [237],\n",
       "         [233],\n",
       "         [230],\n",
       "         [231],\n",
       "         [230],\n",
       "         [230],\n",
       "         [226],\n",
       "         [239],\n",
       "         [150],\n",
       "         [255],\n",
       "         [239],\n",
       "         [199],\n",
       "         [  0],\n",
       "         [  0],\n",
       "         [  0],\n",
       "         [  0]],\n",
       " \n",
       "        [[  0],\n",
       "         [  0],\n",
       "         [  0],\n",
       "         [  0],\n",
       "         [197],\n",
       "         [236],\n",
       "         [254],\n",
       "         [145],\n",
       "         [240],\n",
       "         [223],\n",
       "         [233],\n",
       "         [231],\n",
       "         [237],\n",
       "         [233],\n",
       "         [230],\n",
       "         [232],\n",
       "         [232],\n",
       "         [232],\n",
       "         [225],\n",
       "         [239],\n",
       "         [145],\n",
       "         [254],\n",
       "         [235],\n",
       "         [198],\n",
       "         [  0],\n",
       "         [  0],\n",
       "         [  0],\n",
       "         [  0]],\n",
       " \n",
       "        [[  0],\n",
       "         [  0],\n",
       "         [  0],\n",
       "         [  0],\n",
       "         [203],\n",
       "         [231],\n",
       "         [245],\n",
       "         [214],\n",
       "         [224],\n",
       "         [218],\n",
       "         [224],\n",
       "         [226],\n",
       "         [227],\n",
       "         [229],\n",
       "         [227],\n",
       "         [225],\n",
       "         [222],\n",
       "         [223],\n",
       "         [221],\n",
       "         [223],\n",
       "         [215],\n",
       "         [245],\n",
       "         [232],\n",
       "         [203],\n",
       "         [  0],\n",
       "         [  0],\n",
       "         [  0],\n",
       "         [  0]],\n",
       " \n",
       "        [[  0],\n",
       "         [  0],\n",
       "         [  0],\n",
       "         [  0],\n",
       "         [218],\n",
       "         [246],\n",
       "         [255],\n",
       "         [255],\n",
       "         [255],\n",
       "         [255],\n",
       "         [255],\n",
       "         [255],\n",
       "         [255],\n",
       "         [255],\n",
       "         [254],\n",
       "         [255],\n",
       "         [255],\n",
       "         [255],\n",
       "         [243],\n",
       "         [255],\n",
       "         [255],\n",
       "         [255],\n",
       "         [255],\n",
       "         [216],\n",
       "         [  0],\n",
       "         [  0],\n",
       "         [  0],\n",
       "         [  0]],\n",
       " \n",
       "        [[  0],\n",
       "         [  0],\n",
       "         [  0],\n",
       "         [  0],\n",
       "         [ 33],\n",
       "         [ 53],\n",
       "         [  0],\n",
       "         [  9],\n",
       "         [156],\n",
       "         [137],\n",
       "         [165],\n",
       "         [164],\n",
       "         [162],\n",
       "         [170],\n",
       "         [170],\n",
       "         [163],\n",
       "         [161],\n",
       "         [161],\n",
       "         [140],\n",
       "         [154],\n",
       "         [  6],\n",
       "         [  0],\n",
       "         [ 49],\n",
       "         [ 37],\n",
       "         [  0],\n",
       "         [  0],\n",
       "         [  0],\n",
       "         [  0]]], dtype=uint8),\n",
       " 'label': 4}"
      ]
     },
     "execution_count": 16,
     "metadata": {},
     "output_type": "execute_result"
    }
   ],
   "source": [
    "dataiterator.next()"
   ]
  },
  {
   "cell_type": "code",
   "execution_count": 22,
   "id": "def18f60-93a7-4966-b605-7ef9bb821a68",
   "metadata": {
    "tags": []
   },
   "outputs": [
    {
     "data": {
      "image/png": "[encoded data removed]",
      "text/plain": [
       "<Figure size 2000x2000 with 4 Axes>"
      ]
     },
     "metadata": {},
     "output_type": "display_data"
    }
   ],
   "source": [
    "# Setup the subplot formatting \n",
    "fig, ax = plt.subplots(ncols=4, figsize=(20,20))\n",
    "# Loop four times and get images \n",
    "for idx in range(4): \n",
    "    # Grab an image and label\n",
    "    sample = dataiterator.next()\n",
    "    # Plot the image using a specific subplot \n",
    "    ax[idx].imshow(np.squeeze(sample['image']))\n",
    "    # Appending the image label as the plot title \n",
    "    ax[idx].title.set_text(sample['label'])"
   ]
  },
  {
   "cell_type": "markdown",
   "id": "e7266f16-ae13-480b-93da-0b5bc3ef4094",
   "metadata": {},
   "source": [
    "# Data Preprocessing and Scaling"
   ]
  },
  {
   "cell_type": "code",
   "execution_count": 23,
   "id": "96e60cff-36a0-4d65-8de2-adbd5a045ee8",
   "metadata": {
    "tags": []
   },
   "outputs": [],
   "source": [
    "# Scale and return images only \n",
    "def scale_images(data): \n",
    "    image = data['image']\n",
    "    return image / 255"
   ]
  },
  {
   "cell_type": "code",
   "execution_count": 25,
   "id": "e2970eca-978a-4c7d-8138-92b5e234e1c1",
   "metadata": {
    "tags": []
   },
   "outputs": [],
   "source": [
    "# Reload the dataset \n",
    "ds = tfds.load('fashion_mnist', split='train')\n",
    "#Running the dataset through the scale_images preprocessing step\n",
    "ds = ds.map(scale_images) \n",
    "# Cache the dataset for that batch \n",
    "ds = ds.cache()\n",
    "# Shuffle it up \n",
    "ds = ds.shuffle(60000)\n",
    "# Batch into 128 images per sample\n",
    "ds = ds.batch(128)\n",
    "# Reduces the likelihood of bottlenecking \n",
    "ds = ds.prefetch(64)"
   ]
  },
  {
   "cell_type": "code",
   "execution_count": 26,
   "id": "f7de1f47-6046-4175-9703-db3c13a9ef46",
   "metadata": {
    "tags": []
   },
   "outputs": [
    {
     "data": {
      "text/plain": [
       "(128, 28, 28, 1)"
      ]
     },
     "execution_count": 26,
     "metadata": {},
     "output_type": "execute_result"
    }
   ],
   "source": [
    "ds.as_numpy_iterator().next().shape"
   ]
  },
  {
   "cell_type": "markdown",
   "id": "be48124c-8c3f-4fcd-93ee-4e8d7a5e8907",
   "metadata": {},
   "source": [
    "# 3. Built Neural Network"
   ]
  },
  {
   "cell_type": "markdown",
   "id": "9b55a4ec-711d-40f6-a52a-c59cbea97efd",
   "metadata": {},
   "source": [
    "#### 3.1 Import Modelling Components"
   ]
  },
  {
   "cell_type": "code",
   "execution_count": 27,
   "id": "415edd1b-eda1-48c8-b184-c6c41fe3f456",
   "metadata": {
    "tags": []
   },
   "outputs": [],
   "source": [
    "# Bring in the sequential api for the generator and discriminator\n",
    "from tensorflow.keras.models import Sequential\n",
    "# Bring in the layers for the neural network\n",
    "from tensorflow.keras.layers import Conv2D, Dense, Flatten, Reshape, LeakyReLU, Dropout, UpSampling2D"
   ]
  },
  {
   "cell_type": "markdown",
   "id": "30b6e024-49c6-4b05-b405-546e3e513e5a",
   "metadata": {},
   "source": [
    "#### 3.2 Built Generator"
   ]
  },
  {
   "cell_type": "code",
   "execution_count": 41,
   "id": "1503bec1-ecc8-4eac-b98b-9bbe8db5d71d",
   "metadata": {
    "tags": []
   },
   "outputs": [],
   "source": [
    "def build_generator(): \n",
    "    model = Sequential()\n",
    "    \n",
    "    # Takes in random values and reshapes it to 7x7x128\n",
    "    # Beginnings of a generated image\n",
    "    model.add(Dense(7*7*128, input_dim=128))\n",
    "    model.add(LeakyReLU(0.2))\n",
    "    model.add(Reshape((7,7,128)))\n",
    "    \n",
    "    # Upsampling block 1 \n",
    "    model.add(UpSampling2D())\n",
    "    model.add(Conv2D(128, 5, padding='same'))\n",
    "    model.add(LeakyReLU(0.2))\n",
    "    \n",
    "    # Upsampling block 2 \n",
    "    model.add(UpSampling2D())\n",
    "    model.add(Conv2D(128, 5, padding='same'))\n",
    "    model.add(LeakyReLU(0.2))\n",
    "    \n",
    "    # Convolutional block 1\n",
    "    model.add(Conv2D(128, 4, padding='same'))\n",
    "    model.add(LeakyReLU(0.2))\n",
    "    \n",
    "    # Convolutional block 2\n",
    "    model.add(Conv2D(128, 4, padding='same'))\n",
    "    model.add(LeakyReLU(0.2))\n",
    "    \n",
    "    # Conv layer to get to one channel\n",
    "    model.add(Conv2D(1, 4, padding='same', activation='sigmoid'))\n",
    "    \n",
    "    return model"
   ]
  },
  {
   "cell_type": "code",
   "execution_count": 48,
   "id": "6a5540f3-a016-4d8e-b100-dd4618bc4a6d",
   "metadata": {
    "tags": []
   },
   "outputs": [],
   "source": [
    "generator = build_generator()"
   ]
  },
  {
   "cell_type": "code",
   "execution_count": 49,
   "id": "d786cd7e-2b59-4e31-89b9-4e522de6c9ca",
   "metadata": {
    "tags": []
   },
   "outputs": [
    {
     "name": "stdout",
     "output_type": "stream",
     "text": [
      "Model: \"sequential_5\"\n",
      "_________________________________________________________________\n",
      " Layer (type)                Output Shape              Param #   \n",
      "=================================================================\n",
      " dense_5 (Dense)             (None, 6272)              809088    \n",
      "                                                                 \n",
      " leaky_re_lu_16 (LeakyReLU)  (None, 6272)              0         \n",
      "                                                                 \n",
      " reshape_5 (Reshape)         (None, 7, 7, 128)         0         \n",
      "                                                                 \n",
      " up_sampling2d_7 (UpSamplin  (None, 14, 14, 128)       0         \n",
      " g2D)                                                            \n",
      "                                                                 \n",
      " conv2d_12 (Conv2D)          (None, 14, 14, 128)       409728    \n",
      "                                                                 \n",
      " leaky_re_lu_17 (LeakyReLU)  (None, 14, 14, 128)       0         \n",
      "                                                                 \n",
      " up_sampling2d_8 (UpSamplin  (None, 28, 28, 128)       0         \n",
      " g2D)                                                            \n",
      "                                                                 \n",
      " conv2d_13 (Conv2D)          (None, 28, 28, 128)       409728    \n",
      "                                                                 \n",
      " leaky_re_lu_18 (LeakyReLU)  (None, 28, 28, 128)       0         \n",
      "                                                                 \n",
      " conv2d_14 (Conv2D)          (None, 28, 28, 128)       262272    \n",
      "                                                                 \n",
      " leaky_re_lu_19 (LeakyReLU)  (None, 28, 28, 128)       0         \n",
      "                                                                 \n",
      " conv2d_15 (Conv2D)          (None, 28, 28, 128)       262272    \n",
      "                                                                 \n",
      " leaky_re_lu_20 (LeakyReLU)  (None, 28, 28, 128)       0         \n",
      "                                                                 \n",
      " conv2d_16 (Conv2D)          (None, 28, 28, 1)         2049      \n",
      "                                                                 \n",
      "=================================================================\n",
      "Total params: 2155137 (8.22 MB)\n",
      "Trainable params: 2155137 (8.22 MB)\n",
      "Non-trainable params: 0 (0.00 Byte)\n",
      "_________________________________________________________________\n"
     ]
    }
   ],
   "source": [
    "generator.summary()"
   ]
  },
  {
   "cell_type": "code",
   "execution_count": 50,
   "id": "c584be12-51d6-4b52-8e78-ea7f51ed3d2f",
   "metadata": {
    "scrolled": true,
    "tags": []
   },
   "outputs": [
    {
     "name": "stdout",
     "output_type": "stream",
     "text": [
      "1/1 [==============================] - 0s 135ms/step\n"
     ]
    },
    {
     "data": {
      "text/plain": [
       "array([[[[0.50303763],\n",
       "         [0.49955803],\n",
       "         [0.49711692],\n",
       "         ...,\n",
       "         [0.50522256],\n",
       "         [0.5003332 ],\n",
       "         [0.5058807 ]],\n",
       "\n",
       "        [[0.50868106],\n",
       "         [0.5019161 ],\n",
       "         [0.49818492],\n",
       "         ...,\n",
       "         [0.5003694 ],\n",
       "         [0.50576264],\n",
       "         [0.51126164]],\n",
       "\n",
       "        [[0.5036902 ],\n",
       "         [0.4920827 ],\n",
       "         [0.4925943 ],\n",
       "         ...,\n",
       "         [0.5042013 ],\n",
       "         [0.50709385],\n",
       "         [0.5093026 ]],\n",
       "\n",
       "        ...,\n",
       "\n",
       "        [[0.499878  ],\n",
       "         [0.5098902 ],\n",
       "         [0.5108516 ],\n",
       "         ...,\n",
       "         [0.49680153],\n",
       "         [0.5010858 ],\n",
       "         [0.5032447 ]],\n",
       "\n",
       "        [[0.5031845 ],\n",
       "         [0.5092464 ],\n",
       "         [0.5138522 ],\n",
       "         ...,\n",
       "         [0.5016878 ],\n",
       "         [0.5031931 ],\n",
       "         [0.50264883]],\n",
       "\n",
       "        [[0.49854034],\n",
       "         [0.5025959 ],\n",
       "         [0.50443536],\n",
       "         ...,\n",
       "         [0.5013213 ],\n",
       "         [0.50384545],\n",
       "         [0.50079435]]],\n",
       "\n",
       "\n",
       "       [[[0.5011396 ],\n",
       "         [0.49828798],\n",
       "         [0.50659287],\n",
       "         ...,\n",
       "         [0.49895895],\n",
       "         [0.5012426 ],\n",
       "         [0.5005352 ]],\n",
       "\n",
       "        [[0.49920902],\n",
       "         [0.4974222 ],\n",
       "         [0.5069098 ],\n",
       "         ...,\n",
       "         [0.5000154 ],\n",
       "         [0.5037363 ],\n",
       "         [0.50111556]],\n",
       "\n",
       "        [[0.49949664],\n",
       "         [0.4992638 ],\n",
       "         [0.50255466],\n",
       "         ...,\n",
       "         [0.50345373],\n",
       "         [0.5067039 ],\n",
       "         [0.5008765 ]],\n",
       "\n",
       "        ...,\n",
       "\n",
       "        [[0.5011564 ],\n",
       "         [0.50669897],\n",
       "         [0.503939  ],\n",
       "         ...,\n",
       "         [0.50355566],\n",
       "         [0.50296354],\n",
       "         [0.50246996]],\n",
       "\n",
       "        [[0.5008882 ],\n",
       "         [0.50577813],\n",
       "         [0.5035633 ],\n",
       "         ...,\n",
       "         [0.5056604 ],\n",
       "         [0.50399375],\n",
       "         [0.5028992 ]],\n",
       "\n",
       "        [[0.5011301 ],\n",
       "         [0.50027806],\n",
       "         [0.50042623],\n",
       "         ...,\n",
       "         [0.5025588 ],\n",
       "         [0.50404143],\n",
       "         [0.5012403 ]]],\n",
       "\n",
       "\n",
       "       [[[0.5007303 ],\n",
       "         [0.5024427 ],\n",
       "         [0.50765014],\n",
       "         ...,\n",
       "         [0.50435984],\n",
       "         [0.5001581 ],\n",
       "         [0.500364  ]],\n",
       "\n",
       "        [[0.4983384 ],\n",
       "         [0.5018143 ],\n",
       "         [0.50459516],\n",
       "         ...,\n",
       "         [0.5069746 ],\n",
       "         [0.5022027 ],\n",
       "         [0.503281  ]],\n",
       "\n",
       "        [[0.5048837 ],\n",
       "         [0.50792754],\n",
       "         [0.50748473],\n",
       "         ...,\n",
       "         [0.5102164 ],\n",
       "         [0.50253695],\n",
       "         [0.5026198 ]],\n",
       "\n",
       "        ...,\n",
       "\n",
       "        [[0.49599725],\n",
       "         [0.5051378 ],\n",
       "         [0.50646484],\n",
       "         ...,\n",
       "         [0.5012701 ],\n",
       "         [0.5016891 ],\n",
       "         [0.5000549 ]],\n",
       "\n",
       "        [[0.49409208],\n",
       "         [0.5030878 ],\n",
       "         [0.50734264],\n",
       "         ...,\n",
       "         [0.50752616],\n",
       "         [0.5052152 ],\n",
       "         [0.50142413]],\n",
       "\n",
       "        [[0.4954907 ],\n",
       "         [0.50036716],\n",
       "         [0.50316834],\n",
       "         ...,\n",
       "         [0.5058819 ],\n",
       "         [0.5038166 ],\n",
       "         [0.50027186]]],\n",
       "\n",
       "\n",
       "       [[[0.50915736],\n",
       "         [0.5099979 ],\n",
       "         [0.50440395],\n",
       "         ...,\n",
       "         [0.49608117],\n",
       "         [0.49564186],\n",
       "         [0.49524868]],\n",
       "\n",
       "        [[0.49871412],\n",
       "         [0.5041554 ],\n",
       "         [0.4975677 ],\n",
       "         ...,\n",
       "         [0.50410587],\n",
       "         [0.50020564],\n",
       "         [0.5009369 ]],\n",
       "\n",
       "        [[0.49263984],\n",
       "         [0.5041649 ],\n",
       "         [0.49974808],\n",
       "         ...,\n",
       "         [0.5056923 ],\n",
       "         [0.50132275],\n",
       "         [0.5067996 ]],\n",
       "\n",
       "        ...,\n",
       "\n",
       "        [[0.4935316 ],\n",
       "         [0.48832524],\n",
       "         [0.48557225],\n",
       "         ...,\n",
       "         [0.49995404],\n",
       "         [0.4989598 ],\n",
       "         [0.50365824]],\n",
       "\n",
       "        [[0.49982306],\n",
       "         [0.5023915 ],\n",
       "         [0.5023963 ],\n",
       "         ...,\n",
       "         [0.5010445 ],\n",
       "         [0.5029092 ],\n",
       "         [0.5020129 ]],\n",
       "\n",
       "        [[0.49991658],\n",
       "         [0.5001553 ],\n",
       "         [0.499418  ],\n",
       "         ...,\n",
       "         [0.50432664],\n",
       "         [0.50280106],\n",
       "         [0.5002991 ]]]], dtype=float32)"
      ]
     },
     "execution_count": 50,
     "metadata": {},
     "output_type": "execute_result"
    }
   ],
   "source": [
    "img = generator.predict(np.random.randn(4, 128, 1))\n",
    "img"
   ]
  },
  {
   "cell_type": "markdown",
   "id": "496ea8f0-d3eb-4057-ab93-b07cb9d41625",
   "metadata": {},
   "source": [
    "# Generate new fashion"
   ]
  },
  {
   "cell_type": "code",
   "execution_count": 71,
   "id": "5a61386c-7319-45d2-af17-f8c88af74e4c",
   "metadata": {
    "tags": []
   },
   "outputs": [
    {
     "name": "stdout",
     "output_type": "stream",
     "text": [
      "1/1 [==============================] - 0s 50ms/step\n"
     ]
    }
   ],
   "source": [
    "img = generator.predict(np.random.randn(4,128,1))"
   ]
  },
  {
   "cell_type": "code",
   "execution_count": 72,
   "id": "c1587dfd-83e9-4351-b7f1-b79f2a52fb76",
   "metadata": {
    "tags": []
   },
   "outputs": [
    {
     "data": {
      "text/plain": [
       "(4, 28, 28, 1)"
      ]
     },
     "execution_count": 72,
     "metadata": {},
     "output_type": "execute_result"
    }
   ],
   "source": [
    "img.shape"
   ]
  },
  {
   "cell_type": "code",
   "execution_count": 55,
   "id": "5162e70f-47e3-4664-a308-914ea4f032c9",
   "metadata": {
    "tags": []
   },
   "outputs": [
    {
     "name": "stdout",
     "output_type": "stream",
     "text": [
      "1/1 [==============================] - 0s 48ms/step\n"
     ]
    },
    {
     "data": {
      "image/png": "[encoded data removed]",
      "text/plain": [
       "<Figure size 2000x2000 with 4 Axes>"
      ]
     },
     "metadata": {},
     "output_type": "display_data"
    }
   ],
   "source": [
    "img = generator.predict(np.random.randn(4,128,1))\n",
    "# Setup the subplot formatting \n",
    "fig, ax = plt.subplots(ncols=4, figsize=(20,20))\n",
    "# Loop four times and get images \n",
    "for idx, img in enumerate(img): \n",
    "    # Plot the image using a specific subplot \n",
    "    ax[idx].imshow(np.squeeze(img))\n",
    "    # Appending the image label as the plot title \n",
    "    ax[idx].title.set_text(idx)"
   ]
  },
  {
   "cell_type": "markdown",
   "id": "96772a0c-91b7-4415-8184-070a08c38a2a",
   "metadata": {},
   "source": [
    "### 3.3 Build Discriminator"
   ]
  },
  {
   "cell_type": "code",
   "execution_count": 62,
   "id": "070894d7-4a94-4012-a102-6b1c64392066",
   "metadata": {
    "tags": []
   },
   "outputs": [],
   "source": [
    "def build_discriminator(): \n",
    "    model = Sequential()\n",
    "    \n",
    "    # First Conv Block\n",
    "    model.add(Conv2D(32, 5, input_shape = (28,28,1)))\n",
    "    model.add(LeakyReLU(0.2))\n",
    "    model.add(Dropout(0.4))\n",
    "    \n",
    "    # Second Conv Block\n",
    "    model.add(Conv2D(64, 5))\n",
    "    model.add(LeakyReLU(0.2))\n",
    "    model.add(Dropout(0.4))\n",
    "    \n",
    "    # Third Conv Block\n",
    "    model.add(Conv2D(128, 5))\n",
    "    model.add(LeakyReLU(0.2))\n",
    "    model.add(Dropout(0.4))\n",
    "    \n",
    "    # Fourth Conv Block\n",
    "    model.add(Conv2D(256, 5))\n",
    "    model.add(LeakyReLU(0.2))\n",
    "    model.add(Dropout(0.4))\n",
    "    \n",
    "    # Flatten then pass to dense layer\n",
    "    model.add(Flatten())\n",
    "    model.add(Dropout(0.4))\n",
    "    model.add(Dense(1, activation='sigmoid'))\n",
    "    \n",
    "    return model "
   ]
  },
  {
   "cell_type": "code",
   "execution_count": 63,
   "id": "e088ffb7-0ac6-4930-8165-f3167fa3ead5",
   "metadata": {
    "tags": []
   },
   "outputs": [],
   "source": [
    "discriminator = build_discriminator()"
   ]
  },
  {
   "cell_type": "code",
   "execution_count": 64,
   "id": "70cf00c9-b292-493f-aa0b-519ec1a075ab",
   "metadata": {
    "tags": []
   },
   "outputs": [
    {
     "name": "stdout",
     "output_type": "stream",
     "text": [
      "Model: \"sequential_8\"\n",
      "_________________________________________________________________\n",
      " Layer (type)                Output Shape              Param #   \n",
      "=================================================================\n",
      " conv2d_21 (Conv2D)          (None, 24, 24, 32)        832       \n",
      "                                                                 \n",
      " leaky_re_lu_25 (LeakyReLU)  (None, 24, 24, 32)        0         \n",
      "                                                                 \n",
      " dropout_4 (Dropout)         (None, 24, 24, 32)        0         \n",
      "                                                                 \n",
      " conv2d_22 (Conv2D)          (None, 20, 20, 64)        51264     \n",
      "                                                                 \n",
      " leaky_re_lu_26 (LeakyReLU)  (None, 20, 20, 64)        0         \n",
      "                                                                 \n",
      " dropout_5 (Dropout)         (None, 20, 20, 64)        0         \n",
      "                                                                 \n",
      " conv2d_23 (Conv2D)          (None, 16, 16, 128)       204928    \n",
      "                                                                 \n",
      " leaky_re_lu_27 (LeakyReLU)  (None, 16, 16, 128)       0         \n",
      "                                                                 \n",
      " dropout_6 (Dropout)         (None, 16, 16, 128)       0         \n",
      "                                                                 \n",
      " conv2d_24 (Conv2D)          (None, 12, 12, 256)       819456    \n",
      "                                                                 \n",
      " leaky_re_lu_28 (LeakyReLU)  (None, 12, 12, 256)       0         \n",
      "                                                                 \n",
      " dropout_7 (Dropout)         (None, 12, 12, 256)       0         \n",
      "                                                                 \n",
      " flatten (Flatten)           (None, 36864)             0         \n",
      "                                                                 \n",
      " dropout_8 (Dropout)         (None, 36864)             0         \n",
      "                                                                 \n",
      " dense_6 (Dense)             (None, 1)                 36865     \n",
      "                                                                 \n",
      "=================================================================\n",
      "Total params: 1113345 (4.25 MB)\n",
      "Trainable params: 1113345 (4.25 MB)\n",
      "Non-trainable params: 0 (0.00 Byte)\n",
      "_________________________________________________________________\n"
     ]
    }
   ],
   "source": [
    "discriminator.summary()"
   ]
  },
  {
   "cell_type": "code",
   "execution_count": 73,
   "id": "2d1ed5d5-e945-43e3-ae78-a73da5c3c985",
   "metadata": {
    "tags": []
   },
   "outputs": [
    {
     "data": {
      "text/plain": [
       "(4, 28, 28, 1)"
      ]
     },
     "execution_count": 73,
     "metadata": {},
     "output_type": "execute_result"
    }
   ],
   "source": [
    "img.shape"
   ]
  },
  {
   "cell_type": "code",
   "execution_count": 74,
   "id": "55d1db6e-27c8-4932-b4b7-1b6174c50ac2",
   "metadata": {
    "tags": []
   },
   "outputs": [
    {
     "name": "stdout",
     "output_type": "stream",
     "text": [
      "1/1 [==============================] - 0s 103ms/step\n"
     ]
    },
    {
     "data": {
      "text/plain": [
       "array([[0.49877357],\n",
       "       [0.49853837],\n",
       "       [0.49851644],\n",
       "       [0.49868232]], dtype=float32)"
      ]
     },
     "execution_count": 74,
     "metadata": {},
     "output_type": "execute_result"
    }
   ],
   "source": [
    "discriminator.predict(img)"
   ]
  },
  {
   "cell_type": "markdown",
   "id": "f63550f3-ea1d-4bb3-ae93-8ddbe42cad47",
   "metadata": {},
   "source": [
    "# Construct Training Loop"
   ]
  },
  {
   "cell_type": "markdown",
   "id": "da2b886b-c697-4d30-8fd9-14c0ef072384",
   "metadata": {},
   "source": [
    "### 4.1 Setup Losses and Optimizers"
   ]
  },
  {
   "cell_type": "code",
   "execution_count": 75,
   "id": "9094dcff-be98-4a30-866c-e2a290800887",
   "metadata": {
    "tags": []
   },
   "outputs": [],
   "source": [
    "# Adam is going to be the optimizer for both\n",
    "from tensorflow.keras.optimizers import Adam\n",
    "# Binary cross entropy is going to be the loss for both \n",
    "from tensorflow.keras.losses import BinaryCrossentropy"
   ]
  },
  {
   "cell_type": "code",
   "execution_count": 76,
   "id": "c7961696-d84f-42df-9ce5-734ebfa6256a",
   "metadata": {
    "tags": []
   },
   "outputs": [],
   "source": [
    "g_opt = Adam(learning_rate=0.0001) \n",
    "d_opt = Adam(learning_rate=0.00001) \n",
    "g_loss = BinaryCrossentropy()\n",
    "d_loss = BinaryCrossentropy()"
   ]
  },
  {
   "cell_type": "markdown",
   "id": "0b5f1a0c-23c9-4f2d-8508-555a2d51601c",
   "metadata": {},
   "source": [
    "### 4.2 Build Subclassed Model"
   ]
  },
  {
   "cell_type": "code",
   "execution_count": 77,
   "id": "bcf5ce18-82aa-40ee-90e0-c2fb98614b3a",
   "metadata": {
    "tags": []
   },
   "outputs": [],
   "source": [
    "# Importing the base model class to subclass our training step \n",
    "from tensorflow.keras.models import Model"
   ]
  },
  {
   "cell_type": "code",
   "execution_count": 78,
   "id": "7057d6dd-c01e-46a5-a442-77172d04007c",
   "metadata": {
    "tags": []
   },
   "outputs": [],
   "source": [
    "class FashionGAN(Model): \n",
    "    def __init__(self, generator, discriminator, *args, **kwargs):\n",
    "        # Pass through args and kwargs to base class \n",
    "        super().__init__(*args, **kwargs)\n",
    "        \n",
    "        # Create attributes for gen and disc\n",
    "        self.generator = generator \n",
    "        self.discriminator = discriminator \n",
    "        \n",
    "    def compile(self, g_opt, d_opt, g_loss, d_loss, *args, **kwargs): \n",
    "        # Compile with base class\n",
    "        super().compile(*args, **kwargs)\n",
    "        \n",
    "        # Create attributes for losses and optimizers\n",
    "        self.g_opt = g_opt\n",
    "        self.d_opt = d_opt\n",
    "        self.g_loss = g_loss\n",
    "        self.d_loss = d_loss \n",
    "    \n",
    "    def train_step(self, batch):\n",
    "        # Get the data \n",
    "        real_images = batch\n",
    "        fake_images = self.generator(tf.random.normal((128, 128, 1)), training=False)\n",
    "        \n",
    "        # Train the discriminator\n",
    "        with tf.GradientTape() as d_tape: \n",
    "            # Pass the real and fake images to the discriminator model\n",
    "            yhat_real = self.discriminator(real_images, training=True) \n",
    "            yhat_fake = self.discriminator(fake_images, training=True)\n",
    "            yhat_realfake = tf.concat([yhat_real, yhat_fake], axis=0)\n",
    "            \n",
    "             # Create labels for real and fakes images\n",
    "            y_realfake = tf.concat([tf.zeros_like(yhat_real), tf.ones_like(yhat_fake)], axis=0)\n",
    "            \n",
    "            # Add some noise to the TRUE outputs\n",
    "            noise_real = 0.15*tf.random.uniform(tf.shape(yhat_real))\n",
    "            noise_fake = -0.15*tf.random.uniform(tf.shape(yhat_fake))\n",
    "            y_realfake += tf.concat([noise_real, noise_fake], axis=0)\n",
    "            \n",
    "            # Calculate loss - BINARYCROSS \n",
    "            total_d_loss = self.d_loss(y_realfake, yhat_realfake)\n",
    "            \n",
    "        # Apply backpropagation - nn learn \n",
    "        dgrad = d_tape.gradient(total_d_loss, self.discriminator.trainable_variables) \n",
    "        self.d_opt.apply_gradients(zip(dgrad, self.discriminator.trainable_variables))\n",
    "        \n",
    "        \n",
    "        # Train the generator \n",
    "        with tf.GradientTape() as g_tape: \n",
    "            # Generate some new images\n",
    "            gen_images = self.generator(tf.random.normal((128,128,1)), training=True)\n",
    "                                        \n",
    "            # Create the predicted labels\n",
    "            predicted_labels = self.discriminator(gen_images, training=False)\n",
    "                                        \n",
    "            # Calculate loss - trick to training to fake out the discriminator\n",
    "            total_g_loss = self.g_loss(tf.zeros_like(predicted_labels), predicted_labels) \n",
    "            \n",
    "        # Apply backprop\n",
    "        ggrad = g_tape.gradient(total_g_loss, self.generator.trainable_variables)\n",
    "        self.g_opt.apply_gradients(zip(ggrad, self.generator.trainable_variables))\n",
    "        \n",
    "        return {\"d_loss\":total_d_loss, \"g_loss\":total_g_loss}"
   ]
  },
  {
   "cell_type": "code",
   "execution_count": 79,
   "id": "6ed4c979-fe61-43bd-bd5d-f1aa76416ae6",
   "metadata": {
    "tags": []
   },
   "outputs": [],
   "source": [
    "# Create instance of subclassed model\n",
    "fashgan = FashionGAN(generator, discriminator)"
   ]
  },
  {
   "cell_type": "code",
   "execution_count": 80,
   "id": "c0619686-8a8f-4223-8b2a-aabf70bb72f4",
   "metadata": {
    "tags": []
   },
   "outputs": [],
   "source": [
    "# Compile the model\n",
    "fashgan.compile(g_opt, d_opt, g_loss, d_loss)"
   ]
  },
  {
   "cell_type": "markdown",
   "id": "993b685b-98d4-404e-b10d-88f3dd26eed9",
   "metadata": {},
   "source": [
    "### 4.3 Build Callback"
   ]
  },
  {
   "cell_type": "code",
   "execution_count": 81,
   "id": "e1a1ce49-cd96-4569-a60c-82a9eeb6d2c0",
   "metadata": {
    "tags": []
   },
   "outputs": [],
   "source": [
    "import os\n",
    "from tensorflow.keras.preprocessing.image import array_to_img\n",
    "from tensorflow.keras.callbacks import Callback"
   ]
  },
  {
   "cell_type": "code",
   "execution_count": null,
   "id": "f1a9e752-52ca-4421-98a3-fd961361f24a",
   "metadata": {},
   "outputs": [],
   "source": [
    "class ModelMonitor(Callback):\n",
    "    def __init__(self, num_img=3, latent_dim=128):\n",
    "        self.num_img = num_img\n",
    "        self.latent_dim = latent_dim\n",
    "\n",
    "    def on_epoch_end(self, epoch, logs=None):\n",
    "        random_latent_vectors = tf.random.uniform((self.num_img, self.latent_dim,1))\n",
    "        generated_images = self.model.generator(random_latent_vectors)\n",
    "        generated_images *= 255\n",
    "        generated_images.numpy()\n",
    "        for i in range(self.num_img):\n",
    "            img = array_to_img(generated_images[i])\n",
    "            img.save(os.path.join('images', f'generated_img_{epoch}_{i}.png'))"
   ]
  }
 ],
 "metadata": {
  "kernelspec": {
   "display_name": "fashiongan",
   "language": "python",
   "name": "fashiongan"
  },
  "language_info": {
   "codemirror_mode": {
    "name": "ipython",
    "version": 3
   },
   "file_extension": ".py",
   "mimetype": "text/x-python",
   "name": "python",
   "nbconvert_exporter": "python",
   "pygments_lexer": "ipython3",
   "version": "3.11.5"
  }
 },
 "nbformat": 4,
 "nbformat_minor": 5
}
